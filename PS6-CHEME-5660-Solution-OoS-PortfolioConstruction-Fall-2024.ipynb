{
 "cells": [
  {
   "cell_type": "markdown",
   "id": "3bdb7d70-f067-4a8f-8c82-23df3f101a78",
   "metadata": {},
   "source": [
    "# PS6: Simulation of Ticker Picker Portfolios\n",
    "In the lecture, we developed the `ticker picker` agent, which learned by analyzing historical daily data sequences the probability that a ticker would outperform an alternative investment over a specified N-trading day period. We considered two scenarios: when the `ticker picker` was unaware of risk and when the agents were risk-aware (where risk, in this context, was measured in powers of $\\beta$). \n",
    "\n",
    "We had the agents rank their top-10 portfolios, and from that, we computed the probability of a ticker appearing in a top-10 portfolio. We saved all this preference data to avoid rerunning those calculations here.\n",
    "\n",
    "### Problem\n",
    "In this problem set, we will use agents trained using `SPY` as the alternative investment to select our portfolio's stocks (or ETFs). This is a different, potentially more exciting set of agents than we constructed in the lecture examples. In particular, we'll query the `SPY` ticker-picker agents and have them vote for a list of tickers to include in our portfolio $\\mathcal{P}$ given an investment budget $\\mathcal{B}$. We then compare the performance of our portfolio $\\mathcal{P}$ (assuming equally weighted) to a portfolio consisting of `SPY` alone.\n",
    "\n",
    "Walk through the calculations and fill in the missing components."
   ]
  },
  {
   "cell_type": "markdown",
   "id": "6c839f72-e4e4-4a26-ac26-703871f10acb",
   "metadata": {},
   "source": [
    "## Setup\n",
    "We set up the computational environment by including the `Include.jl` file. The `Include.jl` file loads external packages, various functions that we will use in the exercise, and custom types to model the components of our lab problem.\n",
    "* For additional information on functions and types used in this material, see the [Julia programming language documentation](https://docs.julialang.org/en/v1/) and the [VLQuantitativeFinancePackage.jl documentation](https://github.com/varnerlab/VLQuantitativeFinancePackage.jl)."
   ]
  },
  {
   "cell_type": "code",
   "execution_count": 1,
   "id": "03d78725-d746-4288-83db-c149ba18dde6",
   "metadata": {},
   "outputs": [
    {
     "name": "stderr",
     "output_type": "stream",
     "text": [
      "\u001b[32m\u001b[1m    Updating\u001b[22m\u001b[39m git-repo `https://github.com/varnerlab/VLQuantitativeFinancePackage.jl.git`\n",
      "\u001b[32m\u001b[1m   Resolving\u001b[22m\u001b[39m package versions...\n",
      "\u001b[32m\u001b[1m  No Changes\u001b[22m\u001b[39m to `C:\\Users\\27168\\Documents\\GitHub\\PS6-CHEME-5600-TEMPLATE-Fall-2024\\Project.toml`\n",
      "\u001b[32m\u001b[1m  No Changes\u001b[22m\u001b[39m to `C:\\Users\\27168\\Documents\\GitHub\\PS6-CHEME-5600-TEMPLATE-Fall-2024\\Manifest.toml`\n",
      "\u001b[32m\u001b[1m  Activating\u001b[22m\u001b[39m project at `c:\\Users\\27168\\Documents\\GitHub\\PS6-CHEME-5600-TEMPLATE-Fall-2024`\n",
      "\u001b[32m\u001b[1m  No Changes\u001b[22m\u001b[39m to `C:\\Users\\27168\\Documents\\GitHub\\PS6-CHEME-5600-TEMPLATE-Fall-2024\\Project.toml`\n",
      "\u001b[32m\u001b[1m  No Changes\u001b[22m\u001b[39m to `C:\\Users\\27168\\Documents\\GitHub\\PS6-CHEME-5600-TEMPLATE-Fall-2024\\Manifest.toml`\n",
      "\u001b[32m\u001b[1m    Updating\u001b[22m\u001b[39m registry at `C:\\Users\\27168\\.julia\\registries\\General.toml`\n",
      "\u001b[32m\u001b[1m    Updating\u001b[22m\u001b[39m git-repo `https://github.com/varnerlab/VLQuantitativeFinancePackage.jl.git`\n",
      "\u001b[32m\u001b[1m  No Changes\u001b[22m\u001b[39m to `C:\\Users\\27168\\Documents\\GitHub\\PS6-CHEME-5600-TEMPLATE-Fall-2024\\Project.toml`\n",
      "\u001b[32m\u001b[1m  No Changes\u001b[22m\u001b[39m to `C:\\Users\\27168\\Documents\\GitHub\\PS6-CHEME-5600-TEMPLATE-Fall-2024\\Manifest.toml`\n"
     ]
    },
    {
     "name": "stdout",
     "output_type": "stream",
     "text": [
      "Deps path: C:\\Users\\27168\\.julia\\packages\\FFMPEG\\guN1x\\src\\..\\deps\\deps.jl\n"
     ]
    },
    {
     "name": "stderr",
     "output_type": "stream",
     "text": [
      "\u001b[91m\u001b[1mERROR: \u001b[22m\u001b[39mLoadError: FFMPEG not installed properly, run `] build FFMPEG`, restart Julia and try again\n",
      "Stacktrace:\n",
      " [1] \u001b[0m\u001b[1merror\u001b[22m\u001b[0m\u001b[1m(\u001b[22m\u001b[90ms\u001b[39m::\u001b[0mString\u001b[0m\u001b[1m)\u001b[22m\n",
      "\u001b[90m   @\u001b[39m \u001b[90mBase\u001b[39m \u001b[90m.\\\u001b[39m\u001b[90m\u001b[4merror.jl:35\u001b[24m\u001b[39m\n",
      " [2] top-level scope\n",
      "\u001b[90m   @\u001b[39m \u001b[90mC:\\Users\\27168\\.julia\\packages\\FFMPEG\\guN1x\\src\\\u001b[39m\u001b[90m\u001b[4mFFMPEG.jl:23\u001b[24m\u001b[39m\n",
      " [3] \u001b[0m\u001b[1minclude\u001b[22m\n",
      "\u001b[90m   @\u001b[39m \u001b[90m.\\\u001b[39m\u001b[90m\u001b[4mBase.jl:495\u001b[24m\u001b[39m\u001b[90m [inlined]\u001b[39m\n",
      " [4] \u001b[0m\u001b[1minclude_package_for_output\u001b[22m\u001b[0m\u001b[1m(\u001b[22m\u001b[90mpkg\u001b[39m::\u001b[0mBase.PkgId, \u001b[90minput\u001b[39m::\u001b[0mString, \u001b[90mdepot_path\u001b[39m::\u001b[0mVector\u001b[90m{String}\u001b[39m, \u001b[90mdl_load_path\u001b[39m::\u001b[0mVector\u001b[90m{String}\u001b[39m, \u001b[90mload_path\u001b[39m::\u001b[0mVector\u001b[90m{String}\u001b[39m, \u001b[90mconcrete_deps\u001b[39m::\u001b[0mVector\u001b[90m{Pair{Base.PkgId, UInt128}}\u001b[39m, \u001b[90msource\u001b[39m::\u001b[0mString\u001b[0m\u001b[1m)\u001b[22m\n",
      "\u001b[90m   @\u001b[39m \u001b[90mBase\u001b[39m \u001b[90m.\\\u001b[39m\u001b[90m\u001b[4mloading.jl:2222\u001b[24m\u001b[39m\n",
      " [5] top-level scope\n",
      "\u001b[90m   @\u001b[39m \u001b[90m\u001b[4mstdin:3\u001b[24m\u001b[39m\n",
      "in expression starting at C:\\Users\\27168\\.julia\\packages\\FFMPEG\\guN1x\\src\\FFMPEG.jl:1\n",
      "in expression starting at stdin:3\n",
      "\u001b[91m\u001b[1mERROR: \u001b[22m\u001b[39mLoadError: Failed to precompile FFMPEG [c87230d0-a227-11e9-1b43-d7ebe4e7570a] to \"C:\\\\Users\\\\27168\\\\.julia\\\\compiled\\\\v1.10\\\\FFMPEG\\\\jl_55A.tmp\".\n",
      "Stacktrace:\n",
      "  [1] \u001b[0m\u001b[1merror\u001b[22m\u001b[0m\u001b[1m(\u001b[22m\u001b[90ms\u001b[39m::\u001b[0mString\u001b[0m\u001b[1m)\u001b[22m\n",
      "\u001b[90m    @\u001b[39m \u001b[90mBase\u001b[39m \u001b[90m.\\\u001b[39m\u001b[90m\u001b[4merror.jl:35\u001b[24m\u001b[39m\n",
      "  [2] \u001b[0m\u001b[1mcompilecache\u001b[22m\u001b[0m\u001b[1m(\u001b[22m\u001b[90mpkg\u001b[39m::\u001b[0mBase.PkgId, \u001b[90mpath\u001b[39m::\u001b[0mString, \u001b[90minternal_stderr\u001b[39m::\u001b[0mIO, \u001b[90minternal_stdout\u001b[39m::\u001b[0mIO, \u001b[90mkeep_loaded_modules\u001b[39m::\u001b[0mBool\u001b[0m\u001b[1m)\u001b[22m\n",
      "\u001b[90m    @\u001b[39m \u001b[90mBase\u001b[39m \u001b[90m.\\\u001b[39m\u001b[90m\u001b[4mloading.jl:2468\u001b[24m\u001b[39m\n",
      "  [3] \u001b[0m\u001b[1mcompilecache\u001b[22m\n",
      "\u001b[90m    @\u001b[39m \u001b[90m.\\\u001b[39m\u001b[90m\u001b[4mloading.jl:2340\u001b[24m\u001b[39m\u001b[90m [inlined]\u001b[39m\n",
      "  [4] \u001b[0m\u001b[1m(::Base.var\"#968#969\"{Base.PkgId})\u001b[22m\u001b[0m\u001b[1m(\u001b[22m\u001b[0m\u001b[1m)\u001b[22m\n",
      "\u001b[90m    @\u001b[39m \u001b[90mBase\u001b[39m \u001b[90m.\\\u001b[39m\u001b[90m\u001b[4mloading.jl:1974\u001b[24m\u001b[39m\n",
      "  [5] \u001b[0m\u001b[1mmkpidlock\u001b[22m\u001b[0m\u001b[1m(\u001b[22m\u001b[90mf\u001b[39m::\u001b[0mBase.var\"#968#969\"\u001b[90m{Base.PkgId}\u001b[39m, \u001b[90mat\u001b[39m::\u001b[0mString, \u001b[90mpid\u001b[39m::\u001b[0mInt32; \u001b[90mkwopts\u001b[39m::\u001b[0m@Kwargs\u001b[90m{stale_age::Int64, wait::Bool}\u001b[39m\u001b[0m\u001b[1m)\u001b[22m\n",
      "\u001b[90m    @\u001b[39m \u001b[35mFileWatching.Pidfile\u001b[39m \u001b[90mC:\\Users\\27168\\AppData\\Local\\Programs\\Julia-1.10.5\\share\\julia\\stdlib\\v1.10\\FileWatching\\src\\\u001b[39m\u001b[90m\u001b[4mpidfile.jl:93\u001b[24m\u001b[39m\n",
      "  [6] \u001b[0m\u001b[1m#mkpidlock#6\u001b[22m\n",
      "\u001b[90m    @\u001b[39m \u001b[90mC:\\Users\\27168\\AppData\\Local\\Programs\\Julia-1.10.5\\share\\julia\\stdlib\\v1.10\\FileWatching\\src\\\u001b[39m\u001b[90m\u001b[4mpidfile.jl:88\u001b[24m\u001b[39m\u001b[90m [inlined]\u001b[39m\n",
      "  [7] \u001b[0m\u001b[1mtrymkpidlock\u001b[22m\u001b[0m\u001b[1m(\u001b[22m::\u001b[0mFunction, ::\u001b[0mVararg\u001b[90m{Any}\u001b[39m; \u001b[90mkwargs\u001b[39m::\u001b[0m@Kwargs\u001b[90m{stale_age::Int64}\u001b[39m\u001b[0m\u001b[1m)\u001b[22m\n",
      "\u001b[90m    @\u001b[39m \u001b[35mFileWatching.Pidfile\u001b[39m \u001b[90mC:\\Users\\27168\\AppData\\Local\\Programs\\Julia-1.10.5\\share\\julia\\stdlib\\v1.10\\FileWatching\\src\\\u001b[39m\u001b[90m\u001b[4mpidfile.jl:111\u001b[24m\u001b[39m\n",
      "  [8] \u001b[0m\u001b[1m#invokelatest#2\u001b[22m\n",
      "\u001b[90m    @\u001b[39m \u001b[90m.\\\u001b[39m\u001b[90m\u001b[4messentials.jl:894\u001b[24m\u001b[39m\u001b[90m [inlined]\u001b[39m\n",
      "  [9] \u001b[0m\u001b[1minvokelatest\u001b[22m\n",
      "\u001b[90m    @\u001b[39m \u001b[90m.\\\u001b[39m\u001b[90m\u001b[4messentials.jl:889\u001b[24m\u001b[39m\u001b[90m [inlined]\u001b[39m\n",
      " [10] \u001b[0m\u001b[1mmaybe_cachefile_lock\u001b[22m\u001b[0m\u001b[1m(\u001b[22m\u001b[90mf\u001b[39m::\u001b[0mBase.var\"#968#969\"\u001b[90m{Base.PkgId}\u001b[39m, \u001b[90mpkg\u001b[39m::\u001b[0mBase.PkgId, \u001b[90msrcpath\u001b[39m::\u001b[0mString; \u001b[90mstale_age\u001b[39m::\u001b[0mInt64\u001b[0m\u001b[1m)\u001b[22m\n",
      "\u001b[90m    @\u001b[39m \u001b[90mBase\u001b[39m \u001b[90m.\\\u001b[39m\u001b[90m\u001b[4mloading.jl:2983\u001b[24m\u001b[39m\n",
      " [11] \u001b[0m\u001b[1mmaybe_cachefile_lock\u001b[22m\n",
      "\u001b[90m    @\u001b[39m \u001b[90m.\\\u001b[39m\u001b[90m\u001b[4mloading.jl:2980\u001b[24m\u001b[39m\u001b[90m [inlined]\u001b[39m\n",
      " [12] \u001b[0m\u001b[1m_require\u001b[22m\u001b[0m\u001b[1m(\u001b[22m\u001b[90mpkg\u001b[39m::\u001b[0mBase.PkgId, \u001b[90menv\u001b[39m::\u001b[0mString\u001b[0m\u001b[1m)\u001b[22m\n",
      "\u001b[90m    @\u001b[39m \u001b[90mBase\u001b[39m \u001b[90m.\\\u001b[39m\u001b[90m\u001b[4mloading.jl:1970\u001b[24m\u001b[39m\n",
      " [13] \u001b[0m\u001b[1m__require_prelocked\u001b[22m\u001b[0m\u001b[1m(\u001b[22m\u001b[90muuidkey\u001b[39m::\u001b[0mBase.PkgId, \u001b[90menv\u001b[39m::\u001b[0mString\u001b[0m\u001b[1m)\u001b[22m\n",
      "\u001b[90m    @\u001b[39m \u001b[90mBase\u001b[39m \u001b[90m.\\\u001b[39m\u001b[90m\u001b[4mloading.jl:1812\u001b[24m\u001b[39m\n",
      " [14] \u001b[0m\u001b[1m#invoke_in_world#3\u001b[22m\n",
      "\u001b[90m    @\u001b[39m \u001b[90m.\\\u001b[39m\u001b[90m\u001b[4messentials.jl:926\u001b[24m\u001b[39m\u001b[90m [inlined]\u001b[39m\n",
      " [15] \u001b[0m\u001b[1minvoke_in_world\u001b[22m\n",
      "\u001b[90m    @\u001b[39m \u001b[90m.\\\u001b[39m\u001b[90m\u001b[4messentials.jl:923\u001b[24m\u001b[39m\u001b[90m [inlined]\u001b[39m\n",
      " [16] \u001b[0m\u001b[1m_require_prelocked\u001b[22m\u001b[0m\u001b[1m(\u001b[22m\u001b[90muuidkey\u001b[39m::\u001b[0mBase.PkgId, \u001b[90menv\u001b[39m::\u001b[0mString\u001b[0m\u001b[1m)\u001b[22m\n",
      "\u001b[90m    @\u001b[39m \u001b[90mBase\u001b[39m \u001b[90m.\\\u001b[39m\u001b[90m\u001b[4mloading.jl:1803\u001b[24m\u001b[39m\n",
      " [17] \u001b[0m\u001b[1mmacro expansion\u001b[22m\n",
      "\u001b[90m    @\u001b[39m \u001b[90m.\\\u001b[39m\u001b[90m\u001b[4mloading.jl:1790\u001b[24m\u001b[39m\u001b[90m [inlined]\u001b[39m\n",
      " [18] \u001b[0m\u001b[1mmacro expansion\u001b[22m\n",
      "\u001b[90m    @\u001b[39m \u001b[90m.\\\u001b[39m\u001b[90m\u001b[4mlock.jl:267\u001b[24m\u001b[39m\u001b[90m [inlined]\u001b[39m\n",
      " [19] \u001b[0m\u001b[1m__require\u001b[22m\u001b[0m\u001b[1m(\u001b[22m\u001b[90minto\u001b[39m::\u001b[0mModule, \u001b[90mmod\u001b[39m::\u001b[0mSymbol\u001b[0m\u001b[1m)\u001b[22m\n",
      "\u001b[90m    @\u001b[39m \u001b[90mBase\u001b[39m \u001b[90m.\\\u001b[39m\u001b[90m\u001b[4mloading.jl:1753\u001b[24m\u001b[39m\n",
      " [20] \u001b[0m\u001b[1m#invoke_in_world#3\u001b[22m\n",
      "\u001b[90m    @\u001b[39m \u001b[90m.\\\u001b[39m\u001b[90m\u001b[4messentials.jl:926\u001b[24m\u001b[39m\u001b[90m [inlined]\u001b[39m\n",
      " [21] \u001b[0m\u001b[1minvoke_in_world\u001b[22m\n",
      "\u001b[90m    @\u001b[39m \u001b[90m.\\\u001b[39m\u001b[90m\u001b[4messentials.jl:923\u001b[24m\u001b[39m\u001b[90m [inlined]\u001b[39m\n",
      " [22] \u001b[0m\u001b[1mrequire\u001b[22m\u001b[0m\u001b[1m(\u001b[22m\u001b[90minto\u001b[39m::\u001b[0mModule, \u001b[90mmod\u001b[39m::\u001b[0mSymbol\u001b[0m\u001b[1m)\u001b[22m\n",
      "\u001b[90m    @\u001b[39m \u001b[90mBase\u001b[39m \u001b[90m.\\\u001b[39m\u001b[90m\u001b[4mloading.jl:1746\u001b[24m\u001b[39m\n",
      " [23] \u001b[0m\u001b[1minclude\u001b[22m\u001b[0m\u001b[1m(\u001b[22m\u001b[90mmod\u001b[39m::\u001b[0mModule, \u001b[90m_path\u001b[39m::\u001b[0mString\u001b[0m\u001b[1m)\u001b[22m\n",
      "\u001b[90m    @\u001b[39m \u001b[90mBase\u001b[39m \u001b[90m.\\\u001b[39m\u001b[90m\u001b[4mBase.jl:495\u001b[24m\u001b[39m\n",
      " [24] \u001b[0m\u001b[1minclude\u001b[22m\u001b[0m\u001b[1m(\u001b[22m\u001b[90mx\u001b[39m::\u001b[0mString\u001b[0m\u001b[1m)\u001b[22m\n",
      "\u001b[90m    @\u001b[39m \u001b[36mPlots\u001b[39m \u001b[90mC:\\Users\\27168\\.julia\\packages\\Plots\\HyyIK\\src\\\u001b[39m\u001b[90m\u001b[4mPlots.jl:1\u001b[24m\u001b[39m\n",
      " [25] top-level scope\n",
      "\u001b[90m    @\u001b[39m \u001b[90mC:\\Users\\27168\\.julia\\packages\\Plots\\HyyIK\\src\\\u001b[39m\u001b[90m\u001b[4mPlots.jl:168\u001b[24m\u001b[39m\n",
      " [26] \u001b[0m\u001b[1minclude\u001b[22m\n",
      "\u001b[90m    @\u001b[39m \u001b[90m.\\\u001b[39m\u001b[90m\u001b[4mBase.jl:495\u001b[24m\u001b[39m\u001b[90m [inlined]\u001b[39m\n",
      " [27] \u001b[0m\u001b[1minclude_package_for_output\u001b[22m\u001b[0m\u001b[1m(\u001b[22m\u001b[90mpkg\u001b[39m::\u001b[0mBase.PkgId, \u001b[90minput\u001b[39m::\u001b[0mString, \u001b[90mdepot_path\u001b[39m::\u001b[0mVector\u001b[90m{String}\u001b[39m, \u001b[90mdl_load_path\u001b[39m::\u001b[0mVector\u001b[90m{String}\u001b[39m, \u001b[90mload_path\u001b[39m::\u001b[0mVector\u001b[90m{String}\u001b[39m, \u001b[90mconcrete_deps\u001b[39m::\u001b[0mVector\u001b[90m{Pair{Base.PkgId, UInt128}}\u001b[39m, \u001b[90msource\u001b[39m::\u001b[0mString\u001b[0m\u001b[1m)\u001b[22m\n",
      "\u001b[90m    @\u001b[39m \u001b[90mBase\u001b[39m \u001b[90m.\\\u001b[39m\u001b[90m\u001b[4mloading.jl:2222\u001b[24m\u001b[39m\n",
      " [28] top-level scope\n",
      "\u001b[90m    @\u001b[39m \u001b[90m\u001b[4mstdin:3\u001b[24m\u001b[39m\n",
      "in expression starting at C:\\Users\\27168\\.julia\\packages\\Plots\\HyyIK\\src\\animation.jl:1\n",
      "in expression starting at C:\\Users\\27168\\.julia\\packages\\Plots\\HyyIK\\src\\Plots.jl:1\n",
      "in expression starting at stdin:3\n",
      "\u001b[91m\u001b[1mERROR: \u001b[22m\u001b[39mLoadError: Failed to precompile Plots [91a5bcdd-55d7-5caf-9e0b-520d859cae80] to \"C:\\\\Users\\\\27168\\\\.julia\\\\compiled\\\\v1.10\\\\Plots\\\\jl_F54D.tmp\".\n",
      "Stacktrace:\n",
      "  [1] \u001b[0m\u001b[1merror\u001b[22m\u001b[0m\u001b[1m(\u001b[22m\u001b[90ms\u001b[39m::\u001b[0mString\u001b[0m\u001b[1m)\u001b[22m\n",
      "\u001b[90m    @\u001b[39m \u001b[90mBase\u001b[39m \u001b[90m.\\\u001b[39m\u001b[90m\u001b[4merror.jl:35\u001b[24m\u001b[39m\n",
      "  [2] \u001b[0m\u001b[1mcompilecache\u001b[22m\u001b[0m\u001b[1m(\u001b[22m\u001b[90mpkg\u001b[39m::\u001b[0mBase.PkgId, \u001b[90mpath\u001b[39m::\u001b[0mString, \u001b[90minternal_stderr\u001b[39m::\u001b[0mIO, \u001b[90minternal_stdout\u001b[39m::\u001b[0mIO, \u001b[90mkeep_loaded_modules\u001b[39m::\u001b[0mBool\u001b[0m\u001b[1m)\u001b[22m\n",
      "\u001b[90m    @\u001b[39m \u001b[90mBase\u001b[39m \u001b[90m.\\\u001b[39m\u001b[90m\u001b[4mloading.jl:2468\u001b[24m\u001b[39m\n",
      "  [3] \u001b[0m\u001b[1mcompilecache\u001b[22m\n",
      "\u001b[90m    @\u001b[39m \u001b[90m.\\\u001b[39m\u001b[90m\u001b[4mloading.jl:2340\u001b[24m\u001b[39m\u001b[90m [inlined]\u001b[39m\n",
      "  [4] \u001b[0m\u001b[1m(::Base.var\"#968#969\"{Base.PkgId})\u001b[22m\u001b[0m\u001b[1m(\u001b[22m\u001b[0m\u001b[1m)\u001b[22m\n",
      "\u001b[90m    @\u001b[39m \u001b[90mBase\u001b[39m \u001b[90m.\\\u001b[39m\u001b[90m\u001b[4mloading.jl:1974\u001b[24m\u001b[39m\n",
      "  [5] \u001b[0m\u001b[1mmkpidlock\u001b[22m\u001b[0m\u001b[1m(\u001b[22m\u001b[90mf\u001b[39m::\u001b[0mBase.var\"#968#969\"\u001b[90m{Base.PkgId}\u001b[39m, \u001b[90mat\u001b[39m::\u001b[0mString, \u001b[90mpid\u001b[39m::\u001b[0mInt32; \u001b[90mkwopts\u001b[39m::\u001b[0m@Kwargs\u001b[90m{stale_age::Int64, wait::Bool}\u001b[39m\u001b[0m\u001b[1m)\u001b[22m\n",
      "\u001b[90m    @\u001b[39m \u001b[35mFileWatching.Pidfile\u001b[39m \u001b[90mC:\\Users\\27168\\AppData\\Local\\Programs\\Julia-1.10.5\\share\\julia\\stdlib\\v1.10\\FileWatching\\src\\\u001b[39m\u001b[90m\u001b[4mpidfile.jl:93\u001b[24m\u001b[39m\n",
      "  [6] \u001b[0m\u001b[1m#mkpidlock#6\u001b[22m\n",
      "\u001b[90m    @\u001b[39m \u001b[90mC:\\Users\\27168\\AppData\\Local\\Programs\\Julia-1.10.5\\share\\julia\\stdlib\\v1.10\\FileWatching\\src\\\u001b[39m\u001b[90m\u001b[4mpidfile.jl:88\u001b[24m\u001b[39m\u001b[90m [inlined]\u001b[39m\n",
      "  [7] \u001b[0m\u001b[1mtrymkpidlock\u001b[22m\u001b[0m\u001b[1m(\u001b[22m::\u001b[0mFunction, ::\u001b[0mVararg\u001b[90m{Any}\u001b[39m; \u001b[90mkwargs\u001b[39m::\u001b[0m@Kwargs\u001b[90m{stale_age::Int64}\u001b[39m\u001b[0m\u001b[1m)\u001b[22m\n",
      "\u001b[90m    @\u001b[39m \u001b[35mFileWatching.Pidfile\u001b[39m \u001b[90mC:\\Users\\27168\\AppData\\Local\\Programs\\Julia-1.10.5\\share\\julia\\stdlib\\v1.10\\FileWatching\\src\\\u001b[39m\u001b[90m\u001b[4mpidfile.jl:111\u001b[24m\u001b[39m\n",
      "  [8] \u001b[0m\u001b[1m#invokelatest#2\u001b[22m\n",
      "\u001b[90m    @\u001b[39m \u001b[90m.\\\u001b[39m\u001b[90m\u001b[4messentials.jl:894\u001b[24m\u001b[39m\u001b[90m [inlined]\u001b[39m\n",
      "  [9] \u001b[0m\u001b[1minvokelatest\u001b[22m\n",
      "\u001b[90m    @\u001b[39m \u001b[90m.\\\u001b[39m\u001b[90m\u001b[4messentials.jl:889\u001b[24m\u001b[39m\u001b[90m [inlined]\u001b[39m\n",
      " [10] \u001b[0m\u001b[1mmaybe_cachefile_lock\u001b[22m\u001b[0m\u001b[1m(\u001b[22m\u001b[90mf\u001b[39m::\u001b[0mBase.var\"#968#969\"\u001b[90m{Base.PkgId}\u001b[39m, \u001b[90mpkg\u001b[39m::\u001b[0mBase.PkgId, \u001b[90msrcpath\u001b[39m::\u001b[0mString; \u001b[90mstale_age\u001b[39m::\u001b[0mInt64\u001b[0m\u001b[1m)\u001b[22m\n",
      "\u001b[90m    @\u001b[39m \u001b[90mBase\u001b[39m \u001b[90m.\\\u001b[39m\u001b[90m\u001b[4mloading.jl:2983\u001b[24m\u001b[39m\n",
      " [11] \u001b[0m\u001b[1mmaybe_cachefile_lock\u001b[22m\n",
      "\u001b[90m    @\u001b[39m \u001b[90m.\\\u001b[39m\u001b[90m\u001b[4mloading.jl:2980\u001b[24m\u001b[39m\u001b[90m [inlined]\u001b[39m\n",
      " [12] \u001b[0m\u001b[1m_require\u001b[22m\u001b[0m\u001b[1m(\u001b[22m\u001b[90mpkg\u001b[39m::\u001b[0mBase.PkgId, \u001b[90menv\u001b[39m::\u001b[0mString\u001b[0m\u001b[1m)\u001b[22m\n",
      "\u001b[90m    @\u001b[39m \u001b[90mBase\u001b[39m \u001b[90m.\\\u001b[39m\u001b[90m\u001b[4mloading.jl:1970\u001b[24m\u001b[39m\n",
      " [13] \u001b[0m\u001b[1m__require_prelocked\u001b[22m\u001b[0m\u001b[1m(\u001b[22m\u001b[90muuidkey\u001b[39m::\u001b[0mBase.PkgId, \u001b[90menv\u001b[39m::\u001b[0mString\u001b[0m\u001b[1m)\u001b[22m\n",
      "\u001b[90m    @\u001b[39m \u001b[90mBase\u001b[39m \u001b[90m.\\\u001b[39m\u001b[90m\u001b[4mloading.jl:1812\u001b[24m\u001b[39m\n",
      " [14] \u001b[0m\u001b[1m#invoke_in_world#3\u001b[22m\n",
      "\u001b[90m    @\u001b[39m \u001b[90m.\\\u001b[39m\u001b[90m\u001b[4messentials.jl:926\u001b[24m\u001b[39m\u001b[90m [inlined]\u001b[39m\n",
      " [15] \u001b[0m\u001b[1minvoke_in_world\u001b[22m\n",
      "\u001b[90m    @\u001b[39m \u001b[90m.\\\u001b[39m\u001b[90m\u001b[4messentials.jl:923\u001b[24m\u001b[39m\u001b[90m [inlined]\u001b[39m\n",
      " [16] \u001b[0m\u001b[1m_require_prelocked\u001b[22m\u001b[0m\u001b[1m(\u001b[22m\u001b[90muuidkey\u001b[39m::\u001b[0mBase.PkgId, \u001b[90menv\u001b[39m::\u001b[0mString\u001b[0m\u001b[1m)\u001b[22m\n",
      "\u001b[90m    @\u001b[39m \u001b[90mBase\u001b[39m \u001b[90m.\\\u001b[39m\u001b[90m\u001b[4mloading.jl:1803\u001b[24m\u001b[39m\n",
      " [17] \u001b[0m\u001b[1mmacro expansion\u001b[22m\n",
      "\u001b[90m    @\u001b[39m \u001b[90m.\\\u001b[39m\u001b[90m\u001b[4mloading.jl:1790\u001b[24m\u001b[39m\u001b[90m [inlined]\u001b[39m\n",
      " [18] \u001b[0m\u001b[1mmacro expansion\u001b[22m\n",
      "\u001b[90m    @\u001b[39m \u001b[90m.\\\u001b[39m\u001b[90m\u001b[4mlock.jl:267\u001b[24m\u001b[39m\u001b[90m [inlined]\u001b[39m\n",
      " [19] \u001b[0m\u001b[1m__require\u001b[22m\u001b[0m\u001b[1m(\u001b[22m\u001b[90minto\u001b[39m::\u001b[0mModule, \u001b[90mmod\u001b[39m::\u001b[0mSymbol\u001b[0m\u001b[1m)\u001b[22m\n",
      "\u001b[90m    @\u001b[39m \u001b[90mBase\u001b[39m \u001b[90m.\\\u001b[39m\u001b[90m\u001b[4mloading.jl:1753\u001b[24m\u001b[39m\n",
      " [20] \u001b[0m\u001b[1m#invoke_in_world#3\u001b[22m\n",
      "\u001b[90m    @\u001b[39m \u001b[90m.\\\u001b[39m\u001b[90m\u001b[4messentials.jl:926\u001b[24m\u001b[39m\u001b[90m [inlined]\u001b[39m\n",
      " [21] \u001b[0m\u001b[1minvoke_in_world\u001b[22m\n",
      "\u001b[90m    @\u001b[39m \u001b[90m.\\\u001b[39m\u001b[90m\u001b[4messentials.jl:923\u001b[24m\u001b[39m\u001b[90m [inlined]\u001b[39m\n",
      " [22] \u001b[0m\u001b[1mrequire\u001b[22m\u001b[0m\u001b[1m(\u001b[22m\u001b[90minto\u001b[39m::\u001b[0mModule, \u001b[90mmod\u001b[39m::\u001b[0mSymbol\u001b[0m\u001b[1m)\u001b[22m\n",
      "\u001b[90m    @\u001b[39m \u001b[90mBase\u001b[39m \u001b[90m.\\\u001b[39m\u001b[90m\u001b[4mloading.jl:1746\u001b[24m\u001b[39m\n",
      " [23] \u001b[0m\u001b[1minclude\u001b[22m\n",
      "\u001b[90m    @\u001b[39m \u001b[90m.\\\u001b[39m\u001b[90m\u001b[4mBase.jl:495\u001b[24m\u001b[39m\u001b[90m [inlined]\u001b[39m\n",
      " [24] \u001b[0m\u001b[1minclude_package_for_output\u001b[22m\u001b[0m\u001b[1m(\u001b[22m\u001b[90mpkg\u001b[39m::\u001b[0mBase.PkgId, \u001b[90minput\u001b[39m::\u001b[0mString, \u001b[90mdepot_path\u001b[39m::\u001b[0mVector\u001b[90m{String}\u001b[39m, \u001b[90mdl_load_path\u001b[39m::\u001b[0mVector\u001b[90m{String}\u001b[39m, \u001b[90mload_path\u001b[39m::\u001b[0mVector\u001b[90m{String}\u001b[39m, \u001b[90mconcrete_deps\u001b[39m::\u001b[0mVector\u001b[90m{Pair{Base.PkgId, UInt128}}\u001b[39m, \u001b[90msource\u001b[39m::\u001b[0mString\u001b[0m\u001b[1m)\u001b[22m\n",
      "\u001b[90m    @\u001b[39m \u001b[90mBase\u001b[39m \u001b[90m.\\\u001b[39m\u001b[90m\u001b[4mloading.jl:2222\u001b[24m\u001b[39m\n",
      " [25] top-level scope\n",
      "\u001b[90m    @\u001b[39m \u001b[90m\u001b[4mstdin:3\u001b[24m\u001b[39m\n",
      "in expression starting at C:\\Users\\27168\\.julia\\packages\\StatsPlots\\cStOe\\src\\StatsPlots.jl:1\n",
      "in expression starting at stdin:3\n"
     ]
    },
    {
     "ename": "LoadError",
     "evalue": "LoadError: Failed to precompile StatsPlots [f3b207a7-027a-5e70-b257-86293d7955fd] to \"C:\\\\Users\\\\27168\\\\.julia\\\\compiled\\\\v1.10\\\\StatsPlots\\\\jl_EFFE.tmp\".\nin expression starting at c:\\Users\\27168\\Documents\\GitHub\\PS6-CHEME-5600-TEMPLATE-Fall-2024\\Include.jl:19",
     "output_type": "error",
     "traceback": [
      "LoadError: Failed to precompile StatsPlots [f3b207a7-027a-5e70-b257-86293d7955fd] to \"C:\\\\Users\\\\27168\\\\.julia\\\\compiled\\\\v1.10\\\\StatsPlots\\\\jl_EFFE.tmp\".\n",
      "in expression starting at c:\\Users\\27168\\Documents\\GitHub\\PS6-CHEME-5600-TEMPLATE-Fall-2024\\Include.jl:19\n",
      "\n",
      "Stacktrace:\n",
      "  [1] error(s::String)\n",
      "    @ Base .\\error.jl:35\n",
      "  [2] compilecache(pkg::Base.PkgId, path::String, internal_stderr::IO, internal_stdout::IO, keep_loaded_modules::Bool)\n",
      "    @ Base .\\loading.jl:2468\n",
      "  [3] compilecache\n",
      "    @ .\\loading.jl:2340 [inlined]\n",
      "  [4] (::Base.var\"#968#969\"{Base.PkgId})()\n",
      "    @ Base .\\loading.jl:1974\n",
      "  [5] mkpidlock(f::Base.var\"#968#969\"{Base.PkgId}, at::String, pid::Int32; kwopts::@Kwargs{stale_age::Int64, wait::Bool})\n",
      "    @ FileWatching.Pidfile C:\\Users\\27168\\AppData\\Local\\Programs\\Julia-1.10.5\\share\\julia\\stdlib\\v1.10\\FileWatching\\src\\pidfile.jl:93\n",
      "  [6] #mkpidlock#6\n",
      "    @ C:\\Users\\27168\\AppData\\Local\\Programs\\Julia-1.10.5\\share\\julia\\stdlib\\v1.10\\FileWatching\\src\\pidfile.jl:88 [inlined]\n",
      "  [7] trymkpidlock(::Function, ::Vararg{Any}; kwargs::@Kwargs{stale_age::Int64})\n",
      "    @ FileWatching.Pidfile C:\\Users\\27168\\AppData\\Local\\Programs\\Julia-1.10.5\\share\\julia\\stdlib\\v1.10\\FileWatching\\src\\pidfile.jl:111\n",
      "  [8] #invokelatest#2\n",
      "    @ .\\essentials.jl:894 [inlined]\n",
      "  [9] invokelatest\n",
      "    @ .\\essentials.jl:889 [inlined]\n",
      " [10] maybe_cachefile_lock(f::Base.var\"#968#969\"{Base.PkgId}, pkg::Base.PkgId, srcpath::String; stale_age::Int64)\n",
      "    @ Base .\\loading.jl:2983\n",
      " [11] maybe_cachefile_lock\n",
      "    @ .\\loading.jl:2980 [inlined]\n",
      " [12] _require(pkg::Base.PkgId, env::String)\n",
      "    @ Base .\\loading.jl:1970\n",
      " [13] __require_prelocked(uuidkey::Base.PkgId, env::String)\n",
      "    @ Base .\\loading.jl:1812\n",
      " [14] #invoke_in_world#3\n",
      "    @ .\\essentials.jl:926 [inlined]\n",
      " [15] invoke_in_world\n",
      "    @ .\\essentials.jl:923 [inlined]\n",
      " [16] _require_prelocked(uuidkey::Base.PkgId, env::String)\n",
      "    @ Base .\\loading.jl:1803\n",
      " [17] macro expansion\n",
      "    @ .\\loading.jl:1790 [inlined]\n",
      " [18] macro expansion\n",
      "    @ .\\lock.jl:267 [inlined]\n",
      " [19] __require(into::Module, mod::Symbol)\n",
      "    @ Base .\\loading.jl:1753\n",
      " [20] #invoke_in_world#3\n",
      "    @ .\\essentials.jl:926 [inlined]\n",
      " [21] invoke_in_world\n",
      "    @ .\\essentials.jl:923 [inlined]\n",
      " [22] require(into::Module, mod::Symbol)\n",
      "    @ Base .\\loading.jl:1746\n",
      " [23] include(fname::String)\n",
      "    @ Base.MainInclude .\\client.jl:489\n",
      " [24] top-level scope\n",
      "    @ c:\\Users\\27168\\Documents\\GitHub\\PS6-CHEME-5600-TEMPLATE-Fall-2024\\jl_notebook_cell_df34fa98e69747e1a8f8a730347b8e2f_W2sZmlsZQ==.jl:1"
     ]
    }
   ],
   "source": [
    "include(\"Include.jl\");"
   ]
  },
  {
   "cell_type": "markdown",
   "id": "e140eef9-e19f-4f91-9240-34b51817f155",
   "metadata": {},
   "source": [
    "## Prerequisites: Load ticker-picker save file and out-of-sample market data\n",
    "Let's begin by loading the [HDF5 encoded risk-blind saved file](https://en.wikipedia.org/wiki/Hierarchical_Data_Format) generated in the alternative investment advanced example using [a `load(...)`  method exported by the JLD2.jl package](https://github.com/JuliaIO/JLD2.jl). First, we specify the path to the saved file in the `path_to_save_file::String` variable:"
   ]
  },
  {
   "cell_type": "code",
   "execution_count": 2,
   "id": "4cbc7bcc-3e7b-41af-9a71-c43493e9e64c",
   "metadata": {},
   "outputs": [],
   "source": [
    "path_to_save_file = joinpath(_PATH_TO_DATA, \"TickerPickerAgent-Simulation-State-ALT-RA-SPY-N-10000.jld2\");"
   ]
  },
  {
   "cell_type": "markdown",
   "id": "259110ff-ee1a-4f34-8b06-f816762bbcea",
   "metadata": {},
   "source": [
    "then [call the `load(...)` method exported by the JLD2.jl package](https://github.com/JuliaIO/JLD2.jl), which reads the binary saved file and returns the saved data as a dictionary; we assign the data to the `saved_state_dict::Dict{String, Any}` variable:"
   ]
  },
  {
   "cell_type": "code",
   "execution_count": 3,
   "id": "9af3aff7-de58-414c-aadb-b99ae85b2b5a",
   "metadata": {},
   "outputs": [],
   "source": [
    "saved_state_dict = load(path_to_save_file);"
   ]
  },
  {
   "cell_type": "markdown",
   "id": "1ee860f8-480d-448b-b736-6716e9d8eea5",
   "metadata": {},
   "source": [
    "### Set constant values\n",
    "In the code block below, we set various constant values (and compute some derived constants) that we use in the tasks below. We generally access these values from the `saved_state_dict::Dict{String, Any}` by passing a `key::String` value to the saved data dictionary. Please see the comment beside the code line for more details about the value and what we'll use it for."
   ]
  },
  {
   "cell_type": "code",
   "execution_count": 4,
   "id": "bbcd6cee-21e2-4df3-a168-e6468800c6c1",
   "metadata": {},
   "outputs": [],
   "source": [
    "insampledataset = saved_state_dict[\"insampledata\"]; # OHLC data 460 or so firms/ETFs\n",
    "my_tickers = saved_state_dict[\"tickers\"] |> sort; # *sorted* list of tickers we specified in the worked example\n",
    "preferences_risk_blind = saved_state_dict[\"preferences_risk_blind\"]; # prefs in the risk-blind case\n",
    "preferences_risk_aware = saved_state_dict[\"preferences_risk_aware\"]; # prefs in the risk-blind case\n",
    "Δt = (1.0/252); # assume 252-days per trading year\n",
    "K = length(my_tickers); # how tickers (arms) do we have? \n",
    "number_of_agents = 10000; # how many agents do we want\n",
    "total_budget_to_allocation = 100.0; # Assume we have 100 USD to allocate"
   ]
  },
  {
   "cell_type": "markdown",
   "id": "0e2a36fa-e4e2-4fbf-9e1c-2bc475148569",
   "metadata": {},
   "source": [
    "### Out-of-sample price data\n",
    "Next, we'll load out-of-sample daily price data to test the ticker-picker preferences.\n",
    "We gathered daily open-high-low-close data for each firm in the [S&P500](https://en.wikipedia.org/wiki/S%26P_500) from `01-03-2024` until `10-25-2024`, along with data for a few exchange-traded funds and volatility products during that time. We'll use this data in the subsequent tasks below, but we must load and clean it up first. \n",
    "* First, we'll load the data and remove tickers that do not have the maximum number of trading days. We'll store the cleaned data in the `dataset::Dict{String, DataFrame}` variable.\n",
    "* Next, we'll get a list of all the tickers in the `dataset,` sort them alphabetically, and store them in the `all_tickers_array` variable."
   ]
  },
  {
   "cell_type": "code",
   "execution_count": 5,
   "id": "388a0235-d59f-460f-84a5-c22c81353d21",
   "metadata": {},
   "outputs": [
    {
     "ename": "UndefVarError",
     "evalue": "UndefVarError: `MyOutOfSampleMarketDataSet` not defined",
     "output_type": "error",
     "traceback": [
      "UndefVarError: `MyOutOfSampleMarketDataSet` not defined\n",
      "\n",
      "Stacktrace:\n",
      " [1] top-level scope\n",
      "   @ c:\\Users\\27168\\Documents\\GitHub\\PS6-CHEME-5600-TEMPLATE-Fall-2024\\jl_notebook_cell_df34fa98e69747e1a8f8a730347b8e2f_X13sZmlsZQ==.jl:1"
     ]
    }
   ],
   "source": [
    "original_dataset = MyOutOfSampleMarketDataSet() |> x-> x[\"dataset\"];"
   ]
  },
  {
   "cell_type": "markdown",
   "id": "a9970c69-7dbe-4fa2-899e-cb7b25c386ba",
   "metadata": {},
   "source": [
    "#### Clean the data\n",
    "Not all tickers in our dataset have the maximum number of trading days for various reasons, e.g., acquisition or de-listing events. Let's collect only those tickers with the maximum number of trading days.\n",
    "\n",
    "* First, let's compute the number of records for a company that we know has a maximum value, e.g., `AAPL,` and save that value in the `maximum_number_trading_days` variable:"
   ]
  },
  {
   "cell_type": "code",
   "execution_count": 6,
   "id": "bada5756-535e-4ce4-89da-14a3145eeac7",
   "metadata": {},
   "outputs": [
    {
     "ename": "UndefVarError",
     "evalue": "UndefVarError: `original_dataset` not defined",
     "output_type": "error",
     "traceback": [
      "UndefVarError: `original_dataset` not defined\n",
      "\n",
      "Stacktrace:\n",
      " [1] top-level scope\n",
      "   @ c:\\Users\\27168\\Documents\\GitHub\\PS6-CHEME-5600-TEMPLATE-Fall-2024\\jl_notebook_cell_df34fa98e69747e1a8f8a730347b8e2f_X15sZmlsZQ==.jl:1"
     ]
    }
   ],
   "source": [
    "maximum_number_trading_days = original_dataset[\"AAPL\"] |> nrow;"
   ]
  },
  {
   "cell_type": "markdown",
   "id": "ec8a6302-947f-424a-b127-ed1981e4ef67",
   "metadata": {},
   "source": [
    "* Second, let's iterate through our data and collect only those tickers with `maximum_number_trading_days::Int64` records. Save that data in the `outofsampledataset::Dict{String,DataFrame}` variable:"
   ]
  },
  {
   "cell_type": "code",
   "execution_count": 7,
   "id": "311c3c19-7ce1-4bd9-a9c8-28daaee9e064",
   "metadata": {},
   "outputs": [
    {
     "ename": "UndefVarError",
     "evalue": "UndefVarError: `original_dataset` not defined",
     "output_type": "error",
     "traceback": [
      "UndefVarError: `original_dataset` not defined\n",
      "\n",
      "Stacktrace:\n",
      " [1] top-level scope\n",
      "   @ c:\\Users\\27168\\Documents\\GitHub\\PS6-CHEME-5600-TEMPLATE-Fall-2024\\jl_notebook_cell_df34fa98e69747e1a8f8a730347b8e2f_X20sZmlsZQ==.jl:2"
     ]
    }
   ],
   "source": [
    "outofsampledataset = Dict{String,DataFrame}();\n",
    "for (ticker,data) ∈ original_dataset\n",
    "    if (nrow(data) == maximum_number_trading_days)\n",
    "        outofsampledataset[ticker] = data;\n",
    "    end\n",
    "end\n",
    "outofsampledataset;"
   ]
  },
  {
   "cell_type": "markdown",
   "id": "9c9cf8cf-1630-493a-9ca1-49744e31dafc",
   "metadata": {},
   "source": [
    "We compare the ticker-picker portfolio performance against `SPY,` so let's get the index of `SPY` and store this value in the `index_SPY::Int64` variable:"
   ]
  },
  {
   "cell_type": "code",
   "execution_count": 8,
   "id": "9ca35ee2-17ca-4218-9400-c295ad84dffb",
   "metadata": {},
   "outputs": [
    {
     "ename": "KeyError",
     "evalue": "KeyError: key \"SPY\" not found",
     "output_type": "error",
     "traceback": [
      "KeyError: key \"SPY\" not found\n",
      "\n",
      "Stacktrace:\n",
      " [1] getindex(h::Dict{String, DataFrame}, key::String)\n",
      "   @ Base .\\dict.jl:498\n",
      " [2] top-level scope\n",
      "   @ c:\\Users\\27168\\Documents\\GitHub\\PS6-CHEME-5600-TEMPLATE-Fall-2024\\jl_notebook_cell_df34fa98e69747e1a8f8a730347b8e2f_X22sZmlsZQ==.jl:2"
     ]
    }
   ],
   "source": [
    "list_of_all_tickers = keys(outofsampledataset) |> collect |> sort;\n",
    "index_SPY = findfirst(x-> x== \"SPY\", list_of_all_tickers);\n",
    "price_series_SPY = outofsampledataset[\"SPY\"];"
   ]
  },
  {
   "cell_type": "markdown",
   "id": "70ecf149-8752-412e-9ac1-f62e9a967f76",
   "metadata": {},
   "source": [
    "## Task 1: Generate a random ticker-picker portfolio\n",
    "In this task, you will sample the agents and have them vote on what to include in your portfolio based on their analysis of the past data. The first thing we need to do is to select which preference dataset we want to sample, either the risk-blind or the risk-adjusted dataset. Let's specify this in the `preference_dataset` variable:"
   ]
  },
  {
   "cell_type": "code",
   "execution_count": 9,
   "id": "b3be6380-85b4-48fb-8f75-a9a0cba2cf64",
   "metadata": {},
   "outputs": [],
   "source": [
    "preference_dataset, risktag = let\n",
    "    preference_dataset = nothing;\n",
    "    risktag = \"risk_blind\"; # {risk_aware | risk_blind} # make a choice!\n",
    "    if (risktag == \"risk_aware\")\n",
    "        preference_dataset = preferences_risk_aware\n",
    "    else\n",
    "        preference_dataset = preferences_risk_blind\n",
    "    end\n",
    "\n",
    "    preference_dataset, risktag\n",
    "end;"
   ]
  },
  {
   "cell_type": "code",
   "execution_count": 10,
   "id": "540a614f-59f6-44d4-bbaa-12c16b86cd79",
   "metadata": {},
   "outputs": [
    {
     "name": "stdout",
     "output_type": "stream",
     "text": [
      "We have chosen: risk_blind\n"
     ]
    }
   ],
   "source": [
    "println(\"We have chosen: $(risktag)\")"
   ]
  },
  {
   "cell_type": "markdown",
   "id": "daa1c198-a83f-4064-9661-23f9c7a4f5a8",
   "metadata": {},
   "source": [
    "Next, now that we have selected our preference dataset, i.e., our understanding of the past world, we sample that dataset using [a nested `for-loop`](https://docs.julialang.org/en/v1/base/base/#for) where we iterate over _all K_ tickers in the outer-loop and _all agents_ in the inner loop. Once we select a ticker (index `i`) and an agent (index `j`), we:\n",
    "* We access the agent's belief about a ticker encoded as a [`Beta` distribution](https://juliastats.org/Distributions.jl/stable/univariate/#Distributions.Beta). From that, we extract the ($\\alpha$,$\\beta$) parameters, i.e., the number of times a ticker beat the alternative investment versus the number of times the agent lost versus the alternative investment, respectively.\n",
    "* We then compute the agent's vote for the ticker by first computing the expected value for the ticker to beat the alternative investment. We then use this value to construct [a `Bernoulli` distribution](https://juliastats.org/Distributions.jl/latest/univariate/#Distributions.Bernoulli) and sample that distribution. It returns a value of `1` if the agent wants to include the ticker or `0` otherwise.\n",
    "* Finally, we store the agent's vote (column) for the ticker (row) in the `votes::Array{Int64,2}` array. Each row corresponds to a ticker, while each column is the vote of an agent to include `1` or exclude `0` from the ticker."
   ]
  },
  {
   "cell_type": "code",
   "execution_count": 11,
   "id": "11299162-544d-4ce3-bc08-041b6c81b4d3",
   "metadata": {},
   "outputs": [
    {
     "data": {
      "text/plain": [
       "29×10000 Matrix{Int64}:\n",
       " 0  1  0  0  0  1  1  1  0  0  1  1  0  …  0  0  1  1  0  0  1  1  0  0  0  0\n",
       " 0  1  1  1  0  0  0  1  1  1  0  1  0     0  1  0  0  0  1  0  0  0  0  1  0\n",
       " 0  1  1  0  0  0  1  0  1  0  0  1  0     0  0  0  1  1  1  1  0  0  0  0  1\n",
       " 0  1  1  0  0  0  1  0  0  0  1  0  0     0  1  0  0  1  0  0  0  1  1  0  1\n",
       " 0  1  1  0  0  1  0  1  1  0  0  1  1     1  0  1  0  1  0  0  0  0  0  1  0\n",
       " 0  0  0  1  1  1  0  1  0  0  1  1  1  …  0  0  1  1  0  0  0  1  1  0  0  0\n",
       " 1  0  0  0  0  0  1  1  0  1  0  0  0     1  1  0  0  0  0  0  0  0  0  1  0\n",
       " 0  1  1  1  1  0  0  1  0  1  1  1  0     1  1  0  1  1  1  1  1  0  1  1  0\n",
       " 1  0  1  0  0  1  0  0  0  0  0  0  1     1  0  0  0  0  0  1  1  1  0  0  1\n",
       " 0  0  1  1  0  0  0  1  1  1  0  1  0     1  1  0  1  1  0  0  0  0  1  0  1\n",
       " ⋮              ⋮              ⋮        ⋱        ⋮              ⋮           \n",
       " 0  1  1  0  1  1  0  1  0  0  0  1  1  …  0  1  1  0  0  0  1  1  1  0  0  0\n",
       " 1  1  0  1  0  1  0  0  1  1  1  1  1     0  0  0  0  0  1  0  0  0  0  0  1\n",
       " 0  1  0  0  1  1  0  0  0  1  0  0  0     1  1  1  1  0  0  0  1  0  1  1  0\n",
       " 1  1  1  1  1  1  1  1  1  1  1  1  1     1  1  1  1  1  1  1  1  1  1  1  1\n",
       " 0  0  1  0  1  0  0  0  1  1  1  0  1     0  0  0  0  1  1  1  0  0  0  0  0\n",
       " 1  1  0  1  1  0  0  0  1  1  0  1  1  …  0  0  1  0  1  0  0  0  1  0  0  1\n",
       " 1  1  0  0  1  0  0  1  0  1  0  0  1     1  1  1  0  1  0  1  1  0  0  0  1\n",
       " 0  0  0  0  1  1  1  1  0  1  1  1  0     0  0  1  1  1  1  0  1  0  1  1  0\n",
       " 1  0  1  0  0  1  1  1  0  1  0  1  1     0  1  0  0  1  0  0  0  1  0  0  0"
      ]
     },
     "metadata": {},
     "output_type": "display_data"
    }
   ],
   "source": [
    "votes = let\n",
    "    votes = Array{Int64,2}(undef, K, number_of_agents);\n",
    "    for i = 1:K\n",
    "        for j = 1:number_of_agents\n",
    "            α, β = preference_dataset[i,j] |> d -> params(d);\n",
    "            votes[i,j] = α/(α + β) |> θ -> Bernoulli(θ) |> d -> rand(d) |> vote -> trunc(Int64,vote);\n",
    "        end\n",
    "    end\n",
    "    votes\n",
    "end"
   ]
  },
  {
   "cell_type": "markdown",
   "id": "63d9566a-8b0b-4213-b504-110a9586ce91",
   "metadata": {},
   "source": [
    "Now that all the agents have voted, let's count the votes and see which tickers will be included in our portfolio. To get a better idea of the agent voting, let's build a table [using the `pretty_table(...)` function exported by the PrettyTables.jl package](https://github.com/ronisbr/PrettyTables.jl), which displays the ticker and the percentage vote tally.\n",
    "\n",
    "#### Summary\n",
    "`Unide` the code block below to see how we computed the ticker score and displayed it in a [table using the PrettyTables.jl package](https://github.com/ronisbr/PrettyTables.jl).\n",
    "* The list of scores shows the fraction of the `number_of_agents::Int64` that voted to include a particular ticker symbol in the portfolio. Different scores are observed depending on whether you use the risk-aware or risk-blind preference data."
   ]
  },
  {
   "cell_type": "code",
   "execution_count": 12,
   "id": "333db1d7-771b-4504-8d07-e4d4dad01a1b",
   "metadata": {},
   "outputs": [
    {
     "ename": "UndefVarError",
     "evalue": "UndefVarError: `pretty_table` not defined",
     "output_type": "error",
     "traceback": [
      "UndefVarError: `pretty_table` not defined\n",
      "\n",
      "Stacktrace:\n",
      " [1] top-level scope\n",
      "   @ c:\\Users\\27168\\Documents\\GitHub\\PS6-CHEME-5600-TEMPLATE-Fall-2024\\jl_notebook_cell_df34fa98e69747e1a8f8a730347b8e2f_X32sZmlsZQ==.jl:11"
     ]
    }
   ],
   "source": [
    "let\n",
    "    df = DataFrame()\n",
    "    for i = 1:K\n",
    "        score = sum(votes[i,:]) |> raw_score -> raw_score/number_of_agents;\n",
    "        row_data = (\n",
    "            ticker = my_tickers[i],\n",
    "            score = score\n",
    "        );\n",
    "        push!(df, row_data);\n",
    "    end\n",
    "    pretty_table(df)\n",
    "end"
   ]
  },
  {
   "cell_type": "code",
   "execution_count": 13,
   "id": "ca57679f-3dd7-43b2-8a67-17a352af35fd",
   "metadata": {},
   "outputs": [],
   "source": [
    "do_I_see_the_overall_score_table = true; # {true | false}"
   ]
  },
  {
   "cell_type": "markdown",
   "id": "c6f3ca5a-958c-4728-8517-a8e9eed35f6c",
   "metadata": {},
   "source": [
    "### Select your portfolio tickers\n",
    "Given the scores above, we need a decision rule to pick which ticker to include in the portfolio $\\mathcal{P}$. For example, is a simple majority required to accept a ticker? Let's specify a value for the `cutoff::Float64` variable.\n",
    "* __How do I pick this__? The cutoff controls how deep into the rankings we are willing to go. A large value of the cutoff variable will select only those tickers that many agents have ranked in their top-M lists. On the other hand, smaller values of the cutoff variable will select tickers that only a subset of agents selected."
   ]
  },
  {
   "cell_type": "code",
   "execution_count": 14,
   "id": "d3be1ba2-0150-440a-8001-3c53d70def57",
   "metadata": {},
   "outputs": [],
   "source": [
    "cutoff = 0.45; # Assume a score of x%, e.g., 50% or 0.50 is required to be in your portfolio (adjust to what you want). Must be (0,1] "
   ]
  },
  {
   "cell_type": "markdown",
   "id": "6c939d18-84fb-448a-b30f-05bfb6f6f232",
   "metadata": {},
   "source": [
    "We accept the ticker if the score (percentage of the vote) exceeds the `cutoff::Float64` value specified above. If not, we reject the ticker. Let's populate the `portfolio_tickers::Array{Int64,1}` array with values of `1` and `0` indicating whether to include or reject a ticker, respectively, by iterating over the tickers using [a `for-loop`](https://docs.julialang.org/en/v1/base/base/#for)\n",
    "* First, we compute a `score::Float64` value, the fraction of agents that voted to include the ticker in the portfolio. We then apply the decision rule and set a value for the `keep_flag::Int64` variable. Finally, we store that value in the `portfolio_tickers::Array{Int64,1}` array."
   ]
  },
  {
   "cell_type": "code",
   "execution_count": 15,
   "id": "30867ea8-d49e-4416-b0b6-1ae89f156366",
   "metadata": {},
   "outputs": [],
   "source": [
    "portfolio_tickers = Array{Int64,1}(undef, K);\n",
    "for i = 1:K\n",
    "    score = sum(votes[i,:]) |> raw_score -> raw_score/number_of_agents;\n",
    "    keep_flag = 0; # default value, we reject this ticker\n",
    "    if (score ≥ cutoff)\n",
    "        keep_flag = 1;\n",
    "    end\n",
    "    portfolio_tickers[i] = keep_flag\n",
    "end\n",
    "number_of_tickers_we_keep = findall(x-> x == 1, portfolio_tickers) |> length;"
   ]
  },
  {
   "cell_type": "markdown",
   "id": "d5b81806-8458-487b-8a88-db8dc0a93b26",
   "metadata": {},
   "source": [
    "To make our life easier below, let's build a `portfolio_ticker_index_lookup` table that maps the `ticker::String` symbol to the index of that ticker in our portfolio:"
   ]
  },
  {
   "cell_type": "code",
   "execution_count": 16,
   "id": "4bb68799-cf4e-4b6e-a9d5-bfccd4f2b5e8",
   "metadata": {},
   "outputs": [
    {
     "data": {
      "text/plain": [
       "Dict{String, Int64} with 17 entries:\n",
       "  \"JPM\"  => 6\n",
       "  \"MSFT\" => 9\n",
       "  \"MRK\"  => 8\n",
       "  \"UNH\"  => 17\n",
       "  \"SPY\"  => 15\n",
       "  \"BAC\"  => 3\n",
       "  \"MU\"   => 10\n",
       "  \"TSLA\" => 16\n",
       "  \"KR\"   => 7\n",
       "  \"AMD\"  => 2\n",
       "  \"INTC\" => 5\n",
       "  \"NVDA\" => 13\n",
       "  \"NOC\"  => 12\n",
       "  \"ECL\"  => 4\n",
       "  \"NFLX\" => 11\n",
       "  \"AAPL\" => 1\n",
       "  \"QQQ\"  => 14"
      ]
     },
     "metadata": {},
     "output_type": "display_data"
    }
   ],
   "source": [
    "portfolio_ticker_index_lookup = Dict{String, Int64}();\n",
    "idx = findall(x-> x == 1, portfolio_tickers)\n",
    "for i ∈ eachindex(idx) \n",
    "    ticker = my_tickers[idx[i]];\n",
    "    portfolio_ticker_index_lookup[ticker] = i;\n",
    "end\n",
    "portfolio_ticker_index_lookup"
   ]
  },
  {
   "cell_type": "markdown",
   "id": "1f865797-e7a1-4bfa-8f09-e16446c71e69",
   "metadata": {},
   "source": [
    "Now that we have the `portfolio_tickers::Array{Int64,1}`, we can build a table to see what's included in our portfolio. A value of `1` in the `portfolio_tickers::Array{Int64,1}` array indicates we keep the ticker, `0` indicates we reject the ticker. \n",
    "* `Unhide` the code block below to see how we built a ticker inclusion table [using the `pretty_tables(...)` function exported by the PrettyTables.jl package](https://github.com/ronisbr/PrettyTables.jl)"
   ]
  },
  {
   "cell_type": "code",
   "execution_count": 17,
   "id": "6dbe44b1-f964-4241-85ad-bfa023681be1",
   "metadata": {
    "jupyter": {
     "source_hidden": true
    }
   },
   "outputs": [
    {
     "ename": "UndefVarError",
     "evalue": "UndefVarError: `pretty_table` not defined",
     "output_type": "error",
     "traceback": [
      "UndefVarError: `pretty_table` not defined\n",
      "\n",
      "Stacktrace:\n",
      " [1] top-level scope\n",
      "   @ c:\\Users\\27168\\Documents\\GitHub\\PS6-CHEME-5600-TEMPLATE-Fall-2024\\jl_notebook_cell_df34fa98e69747e1a8f8a730347b8e2f_X44sZmlsZQ==.jl:16"
     ]
    }
   ],
   "source": [
    "let\n",
    "    df = DataFrame();\n",
    "    counter = 1;\n",
    "    for i = 1:K\n",
    "        keep_flag = portfolio_tickers[i];\n",
    "        if (keep_flag == 1)\n",
    "            ticker = my_tickers[i];\n",
    "            row_data = (\n",
    "                index = counter,\n",
    "                ticker = ticker,\n",
    "            );\n",
    "            push!(df, row_data);\n",
    "            counter += 1;\n",
    "        end\n",
    "    end\n",
    "    pretty_table(df)\n",
    "end"
   ]
  },
  {
   "cell_type": "code",
   "execution_count": 18,
   "id": "52687dfa-fa50-4de1-9ab2-9818477d1d74",
   "metadata": {},
   "outputs": [],
   "source": [
    "do_I_see_my_ticker_table = true; # select {true | false}"
   ]
  },
  {
   "cell_type": "markdown",
   "id": "b721f074-3975-4035-83bf-51ff28799924",
   "metadata": {},
   "source": [
    "## Task 2: Simulate out-of-sample portfolio performance \n",
    "In this task, we simulate how well our portfolio will perform. Now that we have asked the agents which tickers to include in our portfolio $\\mathcal{P}$, let's run some simulations to see how this portfolio performs using an out-sample-data price set not used in agent training assuming equal portfolio weighting factors. As an alternative investment, we'll compare our portfolio against the performance of $\\mathcal{B}$ invested in `SPY.`\n",
    "\n",
    "Let's begin by generating an equally weighted allocation, which we store in the `ω::Array{Float64,1}` array"
   ]
  },
  {
   "cell_type": "code",
   "execution_count": 19,
   "id": "95102190-47b8-4301-8a69-657b44f93356",
   "metadata": {},
   "outputs": [],
   "source": [
    "ω = (1/number_of_tickers_we_keep)*ones(number_of_tickers_we_keep);"
   ]
  },
  {
   "cell_type": "markdown",
   "id": "f21e896d-cb0c-4a5f-a04e-9f2dc9bd6629",
   "metadata": {},
   "source": [
    "Next, convert the fractions $\\omega_{i}$ into share counts $n_{i}$ at the beginning of the out-of-sample period. We know, from a `USD` balance, that:\n",
    "$$\n",
    "\\begin{equation}\n",
    "n_{i} = \\frac{\\omega_{i}\\cdot{\\mathcal{B}}}{S_{i,\\circ}}\n",
    "\\end{equation}\n",
    "$$\n",
    "where $n_{i}$ denote the number of shares to purchase in period 1, $\\omega_{i}$ denotes the fraction of the budget $\\mathcal{B}$ used for ticker $i$ in the portfolio, assuming a `USD` basis, and $S_{i,\\circ}$ denotes the share price of ticker $i$ when initializing the portfolio. We assume that we allocate the budget $\\mathcal{B}$ at the beginning of the out-of-sample period and do not reallocate the portfolio weights. \n",
    "* We store the investment budget in the `total_budget_to_allocation::Float64` variable and the number of shares of each ticker in the `n::Array{Float64,1}` array. We compute the number of shares using the expression above, where we iterate over _all K_ possible tickers and check if the ticker is in our portfolio $\\mathcal{P}$. If yes, we compute the share count using [the volume weighted average price](https://en.wikipedia.org/wiki/Volume-weighted_average_price) for period `1` and the random allocation fraction $\\omega_{i}$.\n",
    "* The `counter::Int64` value keeps track of the index of the ticker in the portfolio, i.e., the order of tickers in the portfolio (not the original list of tickers)."
   ]
  },
  {
   "cell_type": "code",
   "execution_count": 20,
   "id": "95ab385d-0299-444a-b09f-cf664ac2fa41",
   "metadata": {},
   "outputs": [
    {
     "ename": "KeyError",
     "evalue": "KeyError: key \"AAPL\" not found",
     "output_type": "error",
     "traceback": [
      "KeyError: key \"AAPL\" not found\n",
      "\n",
      "Stacktrace:\n",
      " [1] getindex(h::Dict{String, DataFrame}, key::String)\n",
      "   @ Base .\\dict.jl:498\n",
      " [2] top-level scope\n",
      "   @ c:\\Users\\27168\\Documents\\GitHub\\PS6-CHEME-5600-TEMPLATE-Fall-2024\\jl_notebook_cell_df34fa98e69747e1a8f8a730347b8e2f_X52sZmlsZQ==.jl:7"
     ]
    }
   ],
   "source": [
    "n = let\n",
    "    n = Array{Float64,1}(undef, number_of_tickers_we_keep);\n",
    "    counter = 1;\n",
    "    for i = 1:K\n",
    "        if (portfolio_tickers[i] == 1)\n",
    "            ticker = my_tickers[i];\n",
    "            price_df = outofsampledataset[ticker];\n",
    "            n[counter] = (total_budget_to_allocation*ω[counter])/(price_df[1,:volume_weighted_average_price]);\n",
    "            \n",
    "            # update -\n",
    "            counter+=1;\n",
    "        end\n",
    "    end\n",
    "    n\n",
    "end;"
   ]
  },
  {
   "cell_type": "markdown",
   "id": "a71ec089-a552-48e5-a9d6-7cadb9adbf7b",
   "metadata": {},
   "source": [
    "### Simulate out-of-sample portfolio performance\n",
    "To compute the out-of-sample wealth, we first populate the `portfolio_vwap_array::Array{Float64,2}` array, which holds [the volume weighted average price (vwap)](https://en.wikipedia.org/wiki/Volume-weighted_average_price) prices for the tickers in portfolio $\\mathcal{P}$. \n",
    "* We first initialize the `portfolio_vwap_array::Array{Float64,2}` array, then get the prices for the out-of-sample dataset by iterating over _all K_ tickers, checking if ticker `i` is in our portfolio; if yes, we get the `ticker::String` symbol, lookup the price data in the `outofsampledataset::Dict{String, DataFrame}` dictionary\n",
    "* We then extract the [the volume weighted average price](https://en.wikipedia.org/wiki/Volume-weighted_average_price) for period `1:(maximum_number_trading_days)`, i.e., each trading period value that we have for each ticker in the `outofsampledataset::Dict{String, DataFrame}` dictionary and insert into the `portfolio_vwap_array` array.\n",
    "* The `counter::Int64` value keeps track of the index of the ticker in the portfolio, i.e., the order of tickers in the portfolio (not the original list of tickers)."
   ]
  },
  {
   "cell_type": "code",
   "execution_count": 21,
   "id": "dedd1764-b6a1-44ca-ba18-ddd8bf46f4ac",
   "metadata": {},
   "outputs": [
    {
     "ename": "UndefVarError",
     "evalue": "UndefVarError: `maximum_number_trading_days` not defined",
     "output_type": "error",
     "traceback": [
      "UndefVarError: `maximum_number_trading_days` not defined\n",
      "\n",
      "Stacktrace:\n",
      " [1] top-level scope\n",
      "   @ c:\\Users\\27168\\Documents\\GitHub\\PS6-CHEME-5600-TEMPLATE-Fall-2024\\jl_notebook_cell_df34fa98e69747e1a8f8a730347b8e2f_X54sZmlsZQ==.jl:2"
     ]
    }
   ],
   "source": [
    "portfolio_vwap_array = let\n",
    "    portfolio_vwap_array = Array{Float64,2}(undef, maximum_number_trading_days, number_of_tickers_we_keep);\n",
    "    counter = 1;\n",
    "    for i ∈ 1:K\n",
    "        if (portfolio_tickers[i] == 1)\n",
    "            ticker = my_tickers[i];\n",
    "            price_df = outofsampledataset[ticker];\n",
    "            for j = 1:(maximum_number_trading_days)\n",
    "                portfolio_vwap_array[j, counter] = price_df[j, :volume_weighted_average_price];\n",
    "            end\n",
    "    \n",
    "            # update -\n",
    "            counter += 1;\n",
    "        end\n",
    "    end\n",
    "    portfolio_vwap_array\n",
    "end;"
   ]
  },
  {
   "cell_type": "markdown",
   "id": "76b12ba3-0fa8-485b-bdb3-9b11c301d350",
   "metadata": {},
   "source": [
    "Finally, we can compute the performance of our portfolio and store this in the `wealth_array::Array{Float64,2}` variable. To do this, we iterate through each trading period in the out-of-sample dataset [using a `for-loop`](https://docs.julialang.org/en/v1/base/base/#for), where for each period, we:\n",
    "* Compute the scalar product between the share count vector $n$ and [the vwap](https://en.wikipedia.org/wiki/Volume-weighted_average_price) at time `t` using [the `dot(...)` function exported by the built-in Julia LinearAlgebra package.](https://docs.julialang.org/en/v1/stdlib/LinearAlgebra/#LinearAlgebra.dot) Next, we compute the wealth associated with the `SPY` only portfolio, where we assume that the entire `total_budget_to_allocation` budget is invested in `SPY,` i.e., $\\omega = 1$.\n",
    "* Finally, we store portfolio wealth, and the `SPY` only wealth in the `wealth_array::Array{Float64,2}`, where each row is a time-point, column `1` is our portfolio, and column `2` is `SPY.`"
   ]
  },
  {
   "cell_type": "code",
   "execution_count": 22,
   "id": "d2346ac7-3b99-4008-bb62-b84d1660b48a",
   "metadata": {},
   "outputs": [
    {
     "ename": "UndefVarError",
     "evalue": "UndefVarError: `maximum_number_trading_days` not defined",
     "output_type": "error",
     "traceback": [
      "UndefVarError: `maximum_number_trading_days` not defined\n",
      "\n",
      "Stacktrace:\n",
      " [1] top-level scope\n",
      "   @ c:\\Users\\27168\\Documents\\GitHub\\PS6-CHEME-5600-TEMPLATE-Fall-2024\\jl_notebook_cell_df34fa98e69747e1a8f8a730347b8e2f_X56sZmlsZQ==.jl:2"
     ]
    }
   ],
   "source": [
    "wealth_array = let\n",
    "    wealth_array = Array{Float64,2}(undef, maximum_number_trading_days, 2)\n",
    "    for t = 1:maximum_number_trading_days\n",
    "        wealth_value_P = dot(n,portfolio_vwap_array[t,:]) # our portfolio\n",
    "        wealth_value_SPY = (total_budget_to_allocation/price_series_SPY[1,:volume_weighted_average_price])*price_series_SPY[t,:volume_weighted_average_price] # spy on its own\n",
    "        wealth_array[t,1] = wealth_value_P\n",
    "        wealth_array[t,2] = wealth_value_SPY\n",
    "    end\n",
    "    wealth_array\n",
    "end;"
   ]
  },
  {
   "cell_type": "markdown",
   "id": "80560c28-b0bd-4da1-bb04-74526d5c360a",
   "metadata": {},
   "source": [
    "### Visualize\n",
    "`Unhide` the code block below to see how we plotted the wealth of our portfolio (blue line) and the `SPY` investment (red line) for the out-of-sample dataset. \n",
    "#### Summary\n",
    "* Switching the `preference_dataset` variable may lead to different performance of the portfolio $\\mathcal{P}$ relative to `SPY` alone. We expect that while the wealth generated by the risk-aware portfolio is similar to or lower than the risk-blind selection, the performance variance will also be less. Thus, a risk-sensitive agent is willing to trade return for less uncertainty.\n",
    "* __Fun idea__: Our portfolio allocation is equally weighted. A better comparison would be to compute optimal weights $\\omega_{i}$ values by solving the minimum variance allocation problem we explored earlier (we leave this to you). Curious to see what happens.\n",
    "* __Another fun idea__: We developed the ticker pickers for a limited set of assets. I'm curious to see what happens if we expand the asset set beyond the 30 or so we picked, and re-run this analysis. "
   ]
  },
  {
   "cell_type": "code",
   "execution_count": 23,
   "id": "5b5d8128-7e1e-4738-b08e-afdcecda4b19",
   "metadata": {
    "jupyter": {
     "source_hidden": true
    }
   },
   "outputs": [
    {
     "ename": "UndefVarError",
     "evalue": "UndefVarError: `wealth_array` not defined",
     "output_type": "error",
     "traceback": [
      "UndefVarError: `wealth_array` not defined\n",
      "\n",
      "Stacktrace:\n",
      " [1] top-level scope\n",
      "   @ c:\\Users\\27168\\Documents\\GitHub\\PS6-CHEME-5600-TEMPLATE-Fall-2024\\jl_notebook_cell_df34fa98e69747e1a8f8a730347b8e2f_X61sZmlsZQ==.jl:2"
     ]
    }
   ],
   "source": [
    "let\n",
    "    plot(wealth_array[:,1], c=:blue, label=\"Ticker Picker $(risktag) Portfolio\", lw=2, \n",
    "        bg=\"gray95\", background_color_outside=\"white\", framestyle = :box, fg_legend = :transparent)\n",
    "    plot!(wealth_array[:,2], c=:red, label=\"SPY (2024)\", lw=2)\n",
    "    xlabel!(\"Trading period index (day)\", fontsize = 18)\n",
    "    ylabel!(\"Wealth (USD)\", fontsize=18)\n",
    "end"
   ]
  },
  {
   "cell_type": "code",
   "execution_count": 24,
   "id": "53c73fc9-8549-4a43-a1fb-a3c834bf30ab",
   "metadata": {},
   "outputs": [],
   "source": [
    "do_I_see_the_OOS_wealth_plot = true; # {true | false}"
   ]
  },
  {
   "cell_type": "markdown",
   "id": "60a017d3-814a-48f7-b901-3053b1ef9277",
   "metadata": {},
   "source": [
    "## Tests\n",
    "In the code block below, we check some values in your notebook and give you feedback on which items are correct or different. `Unhide` the code block below (if you are curious) about how we implemented the tests and what we are testing."
   ]
  },
  {
   "cell_type": "code",
   "execution_count": 25,
   "id": "6569684a-0719-48d2-b667-1aa625e74670",
   "metadata": {},
   "outputs": [
    {
     "ename": "LoadError",
     "evalue": "LoadError: UndefVarError: `@testset` not defined\nin expression starting at c:\\Users\\27168\\Documents\\GitHub\\PS6-CHEME-5600-TEMPLATE-Fall-2024\\jl_notebook_cell_df34fa98e69747e1a8f8a730347b8e2f_X64sZmlsZQ==.jl:2",
     "output_type": "error",
     "traceback": [
      "LoadError: UndefVarError: `@testset` not defined\n",
      "in expression starting at c:\\Users\\27168\\Documents\\GitHub\\PS6-CHEME-5600-TEMPLATE-Fall-2024\\jl_notebook_cell_df34fa98e69747e1a8f8a730347b8e2f_X64sZmlsZQ==.jl:2\n"
     ]
    }
   ],
   "source": [
    "let \n",
    "    @testset verbose = true \"CHEME 5660 problem set 6 test suite\" begin\n",
    "\n",
    "        @testset \"Task 1: Preferences\" begin\n",
    "            @test risktag == \"risk_aware\" || risktag == \"risk_blind\"\n",
    "            @test isempty(preference_dataset) == false\n",
    "            @test isempty(votes) == false\n",
    "            @test do_I_see_the_overall_score_table == true\n",
    "            @test 0 < cutoff && cutoff ≤ 1.0\n",
    "            @test do_I_see_my_ticker_table == true\n",
    "        end\n",
    "\n",
    "        @testset \"Task 2: Simulation\" begin\n",
    "            @test isempty(ω) == false\n",
    "            @test isempty(portfolio_vwap_array) == false\n",
    "            @test isempty(wealth_array) == false\n",
    "            @test do_I_see_the_OOS_wealth_plot == true\n",
    "        end\n",
    "    end\n",
    "end;"
   ]
  },
  {
   "cell_type": "markdown",
   "id": "6d799450-e1b3-4f6b-aa5c-edea6a74c468",
   "metadata": {},
   "source": [
    "## Disclaimer and Risks\n",
    "__This content is offered solely for training and informational purposes__. No offer or solicitation to buy or sell securities or derivative products or any investment or trading advice or strategy is made, given, or endorsed by the teaching team. \n",
    "\n",
    "__Trading involves risk__. Carefully review your financial situation before investing in securities, futures contracts, options, or commodity interests. Past performance, whether actual or indicated by historical tests of strategies, is no guarantee of future performance or success. Trading is generally inappropriate for someone with limited resources, investment or trading experience, or a low-risk tolerance.  Only risk capital that is not required for living expenses.\n",
    "\n",
    "__You are fully responsible for any investment or trading decisions you make__. Such decisions should be based solely on evaluating your financial circumstances, investment or trading objectives, risk tolerance, and liquidity needs."
   ]
  }
 ],
 "metadata": {
  "kernelspec": {
   "display_name": "Julia 1.10.5",
   "language": "julia",
   "name": "julia-1.10"
  },
  "language_info": {
   "file_extension": ".jl",
   "mimetype": "application/julia",
   "name": "julia",
   "version": "1.10.5"
  }
 },
 "nbformat": 4,
 "nbformat_minor": 5
}
